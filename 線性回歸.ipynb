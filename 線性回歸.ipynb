{
 "cells": [
  {
   "cell_type": "code",
   "execution_count": null,
   "metadata": {},
   "outputs": [],
   "source": [
    "from sklearn.linear_model import LinearRegression\n",
    "import matplotlib.pyplot as plt\n",
    "from sklearn import datasets"
   ]
  },
  {
   "cell_type": "code",
   "execution_count": null,
   "metadata": {},
   "outputs": [],
   "source": [
    "x,y = datasets.make_regression(n_samples=200,n_features=1,n_targets=1,noise=10)\n",
    "\n",
    "# 建立一個 線性迴歸模型：\n",
    "lr_model =  LinearRegression()\n",
    "\n",
    "# 將資料放進模型內\n",
    "lr_model.fit(x, y)\n",
    "\n",
    "# 將 預測資料 放到model 來做預測：\n",
    "pred_y = lr_model.predict(x)\n",
    "\n",
    "plt.plot(x, pred_y, c='yellow')\n",
    "plt.scatter(x, y)\n",
    "plt.show()"
   ]
  },
  {
   "cell_type": "code",
   "execution_count": null,
   "metadata": {},
   "outputs": [],
   "source": [
    "import numpy as np\n",
    "\n",
    "# x_ori = [5,7,8,7,2,17,2,9,4,11,12,9,6]\n",
    "# y_ori = [99,86,87,88,111,86,103,87,94,78,77,85,86]\n",
    "x = [[5],[7],[8],[7],[2],[17],[2],[9],[4],[11],[12],[9],[6]]\n",
    "y = [[99],[86],[87],[88],[111],[86],[103],[87],[94],[78],[77],[85],[86]]\n",
    "# 資料 準備\n",
    "# x = np.array(x_ori).reshape(len(x_ori), 1)\n",
    "# y = np.array(y_ori).reshape(len(y_ori), 1)\n",
    "\n",
    "# 建立一個 線性迴歸模型：\n",
    "lr_model =  LinearRegression()\n",
    "\n",
    "# 將資料放進模型內\n",
    "lr_model.fit(x, y)\n",
    "# 將 預測資料 放到model 來做預測：\n",
    "pred_y = lr_model.predict(x)\n",
    "\n",
    "plt.plot(x, pred_y, c='yellow')\n",
    "plt.scatter(x, y)\n",
    "plt.show()"
   ]
  }
 ],
 "metadata": {
  "kernelspec": {
   "display_name": "Python 3",
   "language": "python",
   "name": "python3"
  },
  "language_info": {
   "codemirror_mode": {
    "name": "ipython",
    "version": 3
   },
   "file_extension": ".py",
   "mimetype": "text/x-python",
   "name": "python",
   "nbconvert_exporter": "python",
   "pygments_lexer": "ipython3",
   "version": "3.10.4"
  },
  "orig_nbformat": 4,
  "vscode": {
   "interpreter": {
    "hash": "3ad933181bd8a04b432d3370b9dc3b0662ad032c4dfaa4e4f1596c548f763858"
   }
  }
 },
 "nbformat": 4,
 "nbformat_minor": 2
}
